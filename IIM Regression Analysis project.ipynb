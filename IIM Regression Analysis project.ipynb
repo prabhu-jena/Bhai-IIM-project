{
 "cells": [
  {
   "cell_type": "code",
   "execution_count": 17,
   "id": "9f780427",
   "metadata": {},
   "outputs": [],
   "source": [
    "import numpy as np\n",
    "import pandas as pd\n",
    "import matplotlib.pyplot as plt\n",
    "%matplotlib inline\n",
    "import seaborn as sns"
   ]
  },
  {
   "cell_type": "code",
   "execution_count": 18,
   "id": "d2f2fbf1",
   "metadata": {},
   "outputs": [],
   "source": [
    "df=pd.read_csv(\"C://Users//HP//rasa//Downloads/1_PelicanStores(n Regression).csv\")"
   ]
  },
  {
   "cell_type": "code",
   "execution_count": 19,
   "id": "ea68ea6d",
   "metadata": {},
   "outputs": [
    {
     "data": {
      "text/html": [
       "<div>\n",
       "<style scoped>\n",
       "    .dataframe tbody tr th:only-of-type {\n",
       "        vertical-align: middle;\n",
       "    }\n",
       "\n",
       "    .dataframe tbody tr th {\n",
       "        vertical-align: top;\n",
       "    }\n",
       "\n",
       "    .dataframe thead th {\n",
       "        text-align: right;\n",
       "    }\n",
       "</style>\n",
       "<table border=\"1\" class=\"dataframe\">\n",
       "  <thead>\n",
       "    <tr style=\"text-align: right;\">\n",
       "      <th></th>\n",
       "      <th>Customer</th>\n",
       "      <th>Type of Customer</th>\n",
       "      <th>Items</th>\n",
       "      <th>Net Sales</th>\n",
       "      <th>Method of Payment</th>\n",
       "      <th>Gender</th>\n",
       "      <th>Marital Status</th>\n",
       "      <th>Age</th>\n",
       "      <th>Unnamed: 8</th>\n",
       "      <th>Unnamed: 9</th>\n",
       "      <th>Unnamed: 10</th>\n",
       "      <th>Unnamed: 11</th>\n",
       "      <th>Unnamed: 12</th>\n",
       "    </tr>\n",
       "  </thead>\n",
       "  <tbody>\n",
       "    <tr>\n",
       "      <th>0</th>\n",
       "      <td>1</td>\n",
       "      <td>Regular</td>\n",
       "      <td>1</td>\n",
       "      <td>39.5</td>\n",
       "      <td>Discover</td>\n",
       "      <td>Male</td>\n",
       "      <td>Married</td>\n",
       "      <td>32</td>\n",
       "      <td>NaN</td>\n",
       "      <td>NaN</td>\n",
       "      <td>NaN</td>\n",
       "      <td>NaN</td>\n",
       "      <td>NaN</td>\n",
       "    </tr>\n",
       "    <tr>\n",
       "      <th>1</th>\n",
       "      <td>2</td>\n",
       "      <td>Promotional</td>\n",
       "      <td>1</td>\n",
       "      <td>102.4</td>\n",
       "      <td>Proprietary Card</td>\n",
       "      <td>Female</td>\n",
       "      <td>Married</td>\n",
       "      <td>36</td>\n",
       "      <td>NaN</td>\n",
       "      <td>NaN</td>\n",
       "      <td>NaN</td>\n",
       "      <td>NaN</td>\n",
       "      <td>NaN</td>\n",
       "    </tr>\n",
       "    <tr>\n",
       "      <th>2</th>\n",
       "      <td>3</td>\n",
       "      <td>Regular</td>\n",
       "      <td>1</td>\n",
       "      <td>22.5</td>\n",
       "      <td>Proprietary Card</td>\n",
       "      <td>Female</td>\n",
       "      <td>Married</td>\n",
       "      <td>32</td>\n",
       "      <td>NaN</td>\n",
       "      <td>NaN</td>\n",
       "      <td>NaN</td>\n",
       "      <td>NaN</td>\n",
       "      <td>NaN</td>\n",
       "    </tr>\n",
       "    <tr>\n",
       "      <th>3</th>\n",
       "      <td>4</td>\n",
       "      <td>Promotional</td>\n",
       "      <td>5</td>\n",
       "      <td>100.4</td>\n",
       "      <td>Proprietary Card</td>\n",
       "      <td>Female</td>\n",
       "      <td>Married</td>\n",
       "      <td>28</td>\n",
       "      <td>NaN</td>\n",
       "      <td>NaN</td>\n",
       "      <td>NaN</td>\n",
       "      <td>NaN</td>\n",
       "      <td>NaN</td>\n",
       "    </tr>\n",
       "    <tr>\n",
       "      <th>4</th>\n",
       "      <td>5</td>\n",
       "      <td>Regular</td>\n",
       "      <td>2</td>\n",
       "      <td>54.0</td>\n",
       "      <td>MasterCard</td>\n",
       "      <td>Female</td>\n",
       "      <td>Married</td>\n",
       "      <td>34</td>\n",
       "      <td>NaN</td>\n",
       "      <td>NaN</td>\n",
       "      <td>NaN</td>\n",
       "      <td>NaN</td>\n",
       "      <td>NaN</td>\n",
       "    </tr>\n",
       "  </tbody>\n",
       "</table>\n",
       "</div>"
      ],
      "text/plain": [
       "   Customer Type of Customer  Items  Net Sales Method of Payment  Gender  \\\n",
       "0         1          Regular      1       39.5          Discover    Male   \n",
       "1         2      Promotional      1      102.4  Proprietary Card  Female   \n",
       "2         3          Regular      1       22.5  Proprietary Card  Female   \n",
       "3         4      Promotional      5      100.4  Proprietary Card  Female   \n",
       "4         5          Regular      2       54.0        MasterCard  Female   \n",
       "\n",
       "  Marital Status  Age  Unnamed: 8  Unnamed: 9  Unnamed: 10  Unnamed: 11  \\\n",
       "0        Married   32         NaN         NaN          NaN          NaN   \n",
       "1        Married   36         NaN         NaN          NaN          NaN   \n",
       "2        Married   32         NaN         NaN          NaN          NaN   \n",
       "3        Married   28         NaN         NaN          NaN          NaN   \n",
       "4        Married   34         NaN         NaN          NaN          NaN   \n",
       "\n",
       "   Unnamed: 12  \n",
       "0          NaN  \n",
       "1          NaN  \n",
       "2          NaN  \n",
       "3          NaN  \n",
       "4          NaN  "
      ]
     },
     "execution_count": 19,
     "metadata": {},
     "output_type": "execute_result"
    }
   ],
   "source": [
    "df.head()"
   ]
  },
  {
   "cell_type": "code",
   "execution_count": 20,
   "id": "aba2eb15",
   "metadata": {},
   "outputs": [
    {
     "name": "stdout",
     "output_type": "stream",
     "text": [
      "<class 'pandas.core.frame.DataFrame'>\n",
      "RangeIndex: 100 entries, 0 to 99\n",
      "Data columns (total 13 columns):\n",
      " #   Column             Non-Null Count  Dtype  \n",
      "---  ------             --------------  -----  \n",
      " 0   Customer           100 non-null    int64  \n",
      " 1   Type of Customer   100 non-null    object \n",
      " 2   Items              100 non-null    int64  \n",
      " 3   Net Sales          100 non-null    float64\n",
      " 4   Method of Payment  100 non-null    object \n",
      " 5   Gender             100 non-null    object \n",
      " 6   Marital Status     100 non-null    object \n",
      " 7   Age                100 non-null    int64  \n",
      " 8   Unnamed: 8         0 non-null      float64\n",
      " 9   Unnamed: 9         0 non-null      float64\n",
      " 10  Unnamed: 10        0 non-null      float64\n",
      " 11  Unnamed: 11        0 non-null      float64\n",
      " 12  Unnamed: 12        0 non-null      float64\n",
      "dtypes: float64(6), int64(3), object(4)\n",
      "memory usage: 10.3+ KB\n"
     ]
    }
   ],
   "source": [
    "df.info()"
   ]
  },
  {
   "cell_type": "code",
   "execution_count": 24,
   "id": "d4d85c6e",
   "metadata": {},
   "outputs": [],
   "source": [
    "#remove the nonuse columns"
   ]
  },
  {
   "cell_type": "code",
   "execution_count": 22,
   "id": "db71930b",
   "metadata": {},
   "outputs": [],
   "source": [
    "df1=df.iloc[0:,0:8]"
   ]
  },
  {
   "cell_type": "code",
   "execution_count": 23,
   "id": "83333e07",
   "metadata": {},
   "outputs": [
    {
     "data": {
      "text/html": [
       "<div>\n",
       "<style scoped>\n",
       "    .dataframe tbody tr th:only-of-type {\n",
       "        vertical-align: middle;\n",
       "    }\n",
       "\n",
       "    .dataframe tbody tr th {\n",
       "        vertical-align: top;\n",
       "    }\n",
       "\n",
       "    .dataframe thead th {\n",
       "        text-align: right;\n",
       "    }\n",
       "</style>\n",
       "<table border=\"1\" class=\"dataframe\">\n",
       "  <thead>\n",
       "    <tr style=\"text-align: right;\">\n",
       "      <th></th>\n",
       "      <th>Customer</th>\n",
       "      <th>Type of Customer</th>\n",
       "      <th>Items</th>\n",
       "      <th>Net Sales</th>\n",
       "      <th>Method of Payment</th>\n",
       "      <th>Gender</th>\n",
       "      <th>Marital Status</th>\n",
       "      <th>Age</th>\n",
       "    </tr>\n",
       "  </thead>\n",
       "  <tbody>\n",
       "    <tr>\n",
       "      <th>0</th>\n",
       "      <td>1</td>\n",
       "      <td>Regular</td>\n",
       "      <td>1</td>\n",
       "      <td>39.50</td>\n",
       "      <td>Discover</td>\n",
       "      <td>Male</td>\n",
       "      <td>Married</td>\n",
       "      <td>32</td>\n",
       "    </tr>\n",
       "    <tr>\n",
       "      <th>1</th>\n",
       "      <td>2</td>\n",
       "      <td>Promotional</td>\n",
       "      <td>1</td>\n",
       "      <td>102.40</td>\n",
       "      <td>Proprietary Card</td>\n",
       "      <td>Female</td>\n",
       "      <td>Married</td>\n",
       "      <td>36</td>\n",
       "    </tr>\n",
       "    <tr>\n",
       "      <th>2</th>\n",
       "      <td>3</td>\n",
       "      <td>Regular</td>\n",
       "      <td>1</td>\n",
       "      <td>22.50</td>\n",
       "      <td>Proprietary Card</td>\n",
       "      <td>Female</td>\n",
       "      <td>Married</td>\n",
       "      <td>32</td>\n",
       "    </tr>\n",
       "    <tr>\n",
       "      <th>3</th>\n",
       "      <td>4</td>\n",
       "      <td>Promotional</td>\n",
       "      <td>5</td>\n",
       "      <td>100.40</td>\n",
       "      <td>Proprietary Card</td>\n",
       "      <td>Female</td>\n",
       "      <td>Married</td>\n",
       "      <td>28</td>\n",
       "    </tr>\n",
       "    <tr>\n",
       "      <th>4</th>\n",
       "      <td>5</td>\n",
       "      <td>Regular</td>\n",
       "      <td>2</td>\n",
       "      <td>54.00</td>\n",
       "      <td>MasterCard</td>\n",
       "      <td>Female</td>\n",
       "      <td>Married</td>\n",
       "      <td>34</td>\n",
       "    </tr>\n",
       "    <tr>\n",
       "      <th>...</th>\n",
       "      <td>...</td>\n",
       "      <td>...</td>\n",
       "      <td>...</td>\n",
       "      <td>...</td>\n",
       "      <td>...</td>\n",
       "      <td>...</td>\n",
       "      <td>...</td>\n",
       "      <td>...</td>\n",
       "    </tr>\n",
       "    <tr>\n",
       "      <th>95</th>\n",
       "      <td>96</td>\n",
       "      <td>Regular</td>\n",
       "      <td>1</td>\n",
       "      <td>39.50</td>\n",
       "      <td>MasterCard</td>\n",
       "      <td>Female</td>\n",
       "      <td>Married</td>\n",
       "      <td>44</td>\n",
       "    </tr>\n",
       "    <tr>\n",
       "      <th>96</th>\n",
       "      <td>97</td>\n",
       "      <td>Promotional</td>\n",
       "      <td>9</td>\n",
       "      <td>253.00</td>\n",
       "      <td>Proprietary Card</td>\n",
       "      <td>Female</td>\n",
       "      <td>Married</td>\n",
       "      <td>30</td>\n",
       "    </tr>\n",
       "    <tr>\n",
       "      <th>97</th>\n",
       "      <td>98</td>\n",
       "      <td>Promotional</td>\n",
       "      <td>10</td>\n",
       "      <td>287.59</td>\n",
       "      <td>Proprietary Card</td>\n",
       "      <td>Female</td>\n",
       "      <td>Married</td>\n",
       "      <td>52</td>\n",
       "    </tr>\n",
       "    <tr>\n",
       "      <th>98</th>\n",
       "      <td>99</td>\n",
       "      <td>Promotional</td>\n",
       "      <td>2</td>\n",
       "      <td>47.60</td>\n",
       "      <td>Proprietary Card</td>\n",
       "      <td>Female</td>\n",
       "      <td>Married</td>\n",
       "      <td>30</td>\n",
       "    </tr>\n",
       "    <tr>\n",
       "      <th>99</th>\n",
       "      <td>100</td>\n",
       "      <td>Promotional</td>\n",
       "      <td>1</td>\n",
       "      <td>28.44</td>\n",
       "      <td>Proprietary Card</td>\n",
       "      <td>Female</td>\n",
       "      <td>Married</td>\n",
       "      <td>44</td>\n",
       "    </tr>\n",
       "  </tbody>\n",
       "</table>\n",
       "<p>100 rows × 8 columns</p>\n",
       "</div>"
      ],
      "text/plain": [
       "    Customer Type of Customer  Items  Net Sales Method of Payment  Gender  \\\n",
       "0          1          Regular      1      39.50          Discover    Male   \n",
       "1          2      Promotional      1     102.40  Proprietary Card  Female   \n",
       "2          3          Regular      1      22.50  Proprietary Card  Female   \n",
       "3          4      Promotional      5     100.40  Proprietary Card  Female   \n",
       "4          5          Regular      2      54.00        MasterCard  Female   \n",
       "..       ...              ...    ...        ...               ...     ...   \n",
       "95        96          Regular      1      39.50        MasterCard  Female   \n",
       "96        97      Promotional      9     253.00  Proprietary Card  Female   \n",
       "97        98      Promotional     10     287.59  Proprietary Card  Female   \n",
       "98        99      Promotional      2      47.60  Proprietary Card  Female   \n",
       "99       100      Promotional      1      28.44  Proprietary Card  Female   \n",
       "\n",
       "   Marital Status  Age  \n",
       "0         Married   32  \n",
       "1         Married   36  \n",
       "2         Married   32  \n",
       "3         Married   28  \n",
       "4         Married   34  \n",
       "..            ...  ...  \n",
       "95        Married   44  \n",
       "96        Married   30  \n",
       "97        Married   52  \n",
       "98        Married   30  \n",
       "99        Married   44  \n",
       "\n",
       "[100 rows x 8 columns]"
      ]
     },
     "execution_count": 23,
     "metadata": {},
     "output_type": "execute_result"
    }
   ],
   "source": [
    "df1"
   ]
  },
  {
   "cell_type": "code",
   "execution_count": 26,
   "id": "c82c6437",
   "metadata": {},
   "outputs": [
    {
     "data": {
      "text/plain": [
       "Customer             0\n",
       "Type of Customer     0\n",
       "Items                0\n",
       "Net Sales            0\n",
       "Method of Payment    0\n",
       "Gender               0\n",
       "Marital Status       0\n",
       "Age                  0\n",
       "dtype: int64"
      ]
     },
     "execution_count": 26,
     "metadata": {},
     "output_type": "execute_result"
    }
   ],
   "source": [
    "# checking null value is present or not\n",
    "df1.isna().sum()"
   ]
  },
  {
   "cell_type": "code",
   "execution_count": 37,
   "id": "d8b63df7",
   "metadata": {},
   "outputs": [
    {
     "data": {
      "text/html": [
       "<div>\n",
       "<style scoped>\n",
       "    .dataframe tbody tr th:only-of-type {\n",
       "        vertical-align: middle;\n",
       "    }\n",
       "\n",
       "    .dataframe tbody tr th {\n",
       "        vertical-align: top;\n",
       "    }\n",
       "\n",
       "    .dataframe thead th {\n",
       "        text-align: right;\n",
       "    }\n",
       "</style>\n",
       "<table border=\"1\" class=\"dataframe\">\n",
       "  <thead>\n",
       "    <tr style=\"text-align: right;\">\n",
       "      <th></th>\n",
       "      <th>Customer</th>\n",
       "      <th>Items</th>\n",
       "      <th>Net Sales</th>\n",
       "      <th>Age</th>\n",
       "    </tr>\n",
       "  </thead>\n",
       "  <tbody>\n",
       "    <tr>\n",
       "      <th>Customer</th>\n",
       "      <td>1.000000</td>\n",
       "      <td>0.237575</td>\n",
       "      <td>0.182259</td>\n",
       "      <td>0.140854</td>\n",
       "    </tr>\n",
       "    <tr>\n",
       "      <th>Items</th>\n",
       "      <td>0.237575</td>\n",
       "      <td>1.000000</td>\n",
       "      <td>0.755059</td>\n",
       "      <td>-0.016615</td>\n",
       "    </tr>\n",
       "    <tr>\n",
       "      <th>Net Sales</th>\n",
       "      <td>0.182259</td>\n",
       "      <td>0.755059</td>\n",
       "      <td>1.000000</td>\n",
       "      <td>-0.010636</td>\n",
       "    </tr>\n",
       "    <tr>\n",
       "      <th>Age</th>\n",
       "      <td>0.140854</td>\n",
       "      <td>-0.016615</td>\n",
       "      <td>-0.010636</td>\n",
       "      <td>1.000000</td>\n",
       "    </tr>\n",
       "  </tbody>\n",
       "</table>\n",
       "</div>"
      ],
      "text/plain": [
       "           Customer     Items  Net Sales       Age\n",
       "Customer   1.000000  0.237575   0.182259  0.140854\n",
       "Items      0.237575  1.000000   0.755059 -0.016615\n",
       "Net Sales  0.182259  0.755059   1.000000 -0.010636\n",
       "Age        0.140854 -0.016615  -0.010636  1.000000"
      ]
     },
     "execution_count": 37,
     "metadata": {},
     "output_type": "execute_result"
    }
   ],
   "source": [
    "# creating a correlation between variables\n",
    "df1.corr()"
   ]
  },
  {
   "cell_type": "code",
   "execution_count": 32,
   "id": "d824fae1",
   "metadata": {},
   "outputs": [
    {
     "data": {
      "text/plain": [
       "array(['Regular', 'Promotional'], dtype=object)"
      ]
     },
     "execution_count": 32,
     "metadata": {},
     "output_type": "execute_result"
    }
   ],
   "source": [
    "# checking the unique values in the object data type columns\n",
    "df1[\"Type of Customer\"].unique()"
   ]
  },
  {
   "cell_type": "code",
   "execution_count": 33,
   "id": "7c521dcf",
   "metadata": {},
   "outputs": [
    {
     "data": {
      "text/plain": [
       "array(['Discover', 'Proprietary Card', 'MasterCard', 'Visa',\n",
       "       'American Express'], dtype=object)"
      ]
     },
     "execution_count": 33,
     "metadata": {},
     "output_type": "execute_result"
    }
   ],
   "source": [
    "df1[\"Method of Payment\"].unique()"
   ]
  },
  {
   "cell_type": "code",
   "execution_count": 34,
   "id": "7a7efbcb",
   "metadata": {},
   "outputs": [
    {
     "data": {
      "text/plain": [
       "array(['Male', 'Female'], dtype=object)"
      ]
     },
     "execution_count": 34,
     "metadata": {},
     "output_type": "execute_result"
    }
   ],
   "source": [
    "df1[\"Gender\"].unique()"
   ]
  },
  {
   "cell_type": "code",
   "execution_count": 35,
   "id": "c308656c",
   "metadata": {},
   "outputs": [
    {
     "data": {
      "text/plain": [
       "array(['Married', 'Single'], dtype=object)"
      ]
     },
     "execution_count": 35,
     "metadata": {},
     "output_type": "execute_result"
    }
   ],
   "source": [
    "df1['Marital Status'].unique()"
   ]
  },
  {
   "cell_type": "code",
   "execution_count": 39,
   "id": "abc86f56",
   "metadata": {},
   "outputs": [],
   "source": [
    "#Now lebeling values as(0,1,2,...) for the object data type columns\n",
    "# converting column to Machine readable form\n",
    "#importing labelencoder library\n",
    "from sklearn.preprocessing import LabelEncoder\n",
    "le=LabelEncoder()"
   ]
  },
  {
   "cell_type": "code",
   "execution_count": 41,
   "id": "0986f2bc",
   "metadata": {},
   "outputs": [
    {
     "data": {
      "text/html": [
       "<div>\n",
       "<style scoped>\n",
       "    .dataframe tbody tr th:only-of-type {\n",
       "        vertical-align: middle;\n",
       "    }\n",
       "\n",
       "    .dataframe tbody tr th {\n",
       "        vertical-align: top;\n",
       "    }\n",
       "\n",
       "    .dataframe thead th {\n",
       "        text-align: right;\n",
       "    }\n",
       "</style>\n",
       "<table border=\"1\" class=\"dataframe\">\n",
       "  <thead>\n",
       "    <tr style=\"text-align: right;\">\n",
       "      <th></th>\n",
       "      <th>Customer</th>\n",
       "      <th>Type of Customer</th>\n",
       "      <th>Items</th>\n",
       "      <th>Net Sales</th>\n",
       "      <th>Method of Payment</th>\n",
       "      <th>Gender</th>\n",
       "      <th>Marital Status</th>\n",
       "      <th>Age</th>\n",
       "    </tr>\n",
       "  </thead>\n",
       "  <tbody>\n",
       "    <tr>\n",
       "      <th>0</th>\n",
       "      <td>1</td>\n",
       "      <td>1</td>\n",
       "      <td>1</td>\n",
       "      <td>39.5</td>\n",
       "      <td>1</td>\n",
       "      <td>1</td>\n",
       "      <td>0</td>\n",
       "      <td>32</td>\n",
       "    </tr>\n",
       "    <tr>\n",
       "      <th>1</th>\n",
       "      <td>2</td>\n",
       "      <td>0</td>\n",
       "      <td>1</td>\n",
       "      <td>102.4</td>\n",
       "      <td>3</td>\n",
       "      <td>0</td>\n",
       "      <td>0</td>\n",
       "      <td>36</td>\n",
       "    </tr>\n",
       "    <tr>\n",
       "      <th>2</th>\n",
       "      <td>3</td>\n",
       "      <td>1</td>\n",
       "      <td>1</td>\n",
       "      <td>22.5</td>\n",
       "      <td>3</td>\n",
       "      <td>0</td>\n",
       "      <td>0</td>\n",
       "      <td>32</td>\n",
       "    </tr>\n",
       "    <tr>\n",
       "      <th>3</th>\n",
       "      <td>4</td>\n",
       "      <td>0</td>\n",
       "      <td>5</td>\n",
       "      <td>100.4</td>\n",
       "      <td>3</td>\n",
       "      <td>0</td>\n",
       "      <td>0</td>\n",
       "      <td>28</td>\n",
       "    </tr>\n",
       "    <tr>\n",
       "      <th>4</th>\n",
       "      <td>5</td>\n",
       "      <td>1</td>\n",
       "      <td>2</td>\n",
       "      <td>54.0</td>\n",
       "      <td>2</td>\n",
       "      <td>0</td>\n",
       "      <td>0</td>\n",
       "      <td>34</td>\n",
       "    </tr>\n",
       "  </tbody>\n",
       "</table>\n",
       "</div>"
      ],
      "text/plain": [
       "   Customer  Type of Customer  Items  Net Sales  Method of Payment  Gender  \\\n",
       "0         1                 1      1       39.5                  1       1   \n",
       "1         2                 0      1      102.4                  3       0   \n",
       "2         3                 1      1       22.5                  3       0   \n",
       "3         4                 0      5      100.4                  3       0   \n",
       "4         5                 1      2       54.0                  2       0   \n",
       "\n",
       "   Marital Status  Age  \n",
       "0               0   32  \n",
       "1               0   36  \n",
       "2               0   32  \n",
       "3               0   28  \n",
       "4               0   34  "
      ]
     },
     "execution_count": 41,
     "metadata": {},
     "output_type": "execute_result"
    }
   ],
   "source": [
    "list1=['Type of Customer','Method of Payment','Gender','Marital Status']\n",
    "for i in list1:\n",
    "    df1[i]=le.fit_transform(df1[i])\n",
    "\n",
    "df1.head()"
   ]
  },
  {
   "cell_type": "code",
   "execution_count": 42,
   "id": "7fb09959",
   "metadata": {},
   "outputs": [
    {
     "data": {
      "text/html": [
       "<div>\n",
       "<style scoped>\n",
       "    .dataframe tbody tr th:only-of-type {\n",
       "        vertical-align: middle;\n",
       "    }\n",
       "\n",
       "    .dataframe tbody tr th {\n",
       "        vertical-align: top;\n",
       "    }\n",
       "\n",
       "    .dataframe thead th {\n",
       "        text-align: right;\n",
       "    }\n",
       "</style>\n",
       "<table border=\"1\" class=\"dataframe\">\n",
       "  <thead>\n",
       "    <tr style=\"text-align: right;\">\n",
       "      <th></th>\n",
       "      <th>Customer</th>\n",
       "      <th>Type of Customer</th>\n",
       "      <th>Items</th>\n",
       "      <th>Net Sales</th>\n",
       "      <th>Method of Payment</th>\n",
       "      <th>Gender</th>\n",
       "      <th>Marital Status</th>\n",
       "      <th>Age</th>\n",
       "    </tr>\n",
       "  </thead>\n",
       "  <tbody>\n",
       "    <tr>\n",
       "      <th>Customer</th>\n",
       "      <td>1.000000</td>\n",
       "      <td>-0.137586</td>\n",
       "      <td>0.237575</td>\n",
       "      <td>0.182259</td>\n",
       "      <td>-0.024344</td>\n",
       "      <td>-0.189407</td>\n",
       "      <td>-0.013229</td>\n",
       "      <td>0.140854</td>\n",
       "    </tr>\n",
       "    <tr>\n",
       "      <th>Type of Customer</th>\n",
       "      <td>-0.137586</td>\n",
       "      <td>1.000000</td>\n",
       "      <td>-0.325432</td>\n",
       "      <td>-0.184494</td>\n",
       "      <td>-0.224116</td>\n",
       "      <td>0.076974</td>\n",
       "      <td>0.130952</td>\n",
       "      <td>-0.021951</td>\n",
       "    </tr>\n",
       "    <tr>\n",
       "      <th>Items</th>\n",
       "      <td>0.237575</td>\n",
       "      <td>-0.325432</td>\n",
       "      <td>1.000000</td>\n",
       "      <td>0.755059</td>\n",
       "      <td>0.004765</td>\n",
       "      <td>-0.122945</td>\n",
       "      <td>-0.115424</td>\n",
       "      <td>-0.016615</td>\n",
       "    </tr>\n",
       "    <tr>\n",
       "      <th>Net Sales</th>\n",
       "      <td>0.182259</td>\n",
       "      <td>-0.184494</td>\n",
       "      <td>0.755059</td>\n",
       "      <td>1.000000</td>\n",
       "      <td>-0.095739</td>\n",
       "      <td>-0.104591</td>\n",
       "      <td>-0.017729</td>\n",
       "      <td>-0.010636</td>\n",
       "    </tr>\n",
       "    <tr>\n",
       "      <th>Method of Payment</th>\n",
       "      <td>-0.024344</td>\n",
       "      <td>-0.224116</td>\n",
       "      <td>0.004765</td>\n",
       "      <td>-0.095739</td>\n",
       "      <td>1.000000</td>\n",
       "      <td>0.013771</td>\n",
       "      <td>0.069299</td>\n",
       "      <td>-0.138742</td>\n",
       "    </tr>\n",
       "    <tr>\n",
       "      <th>Gender</th>\n",
       "      <td>-0.189407</td>\n",
       "      <td>0.076974</td>\n",
       "      <td>-0.122945</td>\n",
       "      <td>-0.104591</td>\n",
       "      <td>0.013771</td>\n",
       "      <td>1.000000</td>\n",
       "      <td>0.200987</td>\n",
       "      <td>-0.036755</td>\n",
       "    </tr>\n",
       "    <tr>\n",
       "      <th>Marital Status</th>\n",
       "      <td>-0.013229</td>\n",
       "      <td>0.130952</td>\n",
       "      <td>-0.115424</td>\n",
       "      <td>-0.017729</td>\n",
       "      <td>0.069299</td>\n",
       "      <td>0.200987</td>\n",
       "      <td>1.000000</td>\n",
       "      <td>-0.263944</td>\n",
       "    </tr>\n",
       "    <tr>\n",
       "      <th>Age</th>\n",
       "      <td>0.140854</td>\n",
       "      <td>-0.021951</td>\n",
       "      <td>-0.016615</td>\n",
       "      <td>-0.010636</td>\n",
       "      <td>-0.138742</td>\n",
       "      <td>-0.036755</td>\n",
       "      <td>-0.263944</td>\n",
       "      <td>1.000000</td>\n",
       "    </tr>\n",
       "  </tbody>\n",
       "</table>\n",
       "</div>"
      ],
      "text/plain": [
       "                   Customer  Type of Customer     Items  Net Sales  \\\n",
       "Customer           1.000000         -0.137586  0.237575   0.182259   \n",
       "Type of Customer  -0.137586          1.000000 -0.325432  -0.184494   \n",
       "Items              0.237575         -0.325432  1.000000   0.755059   \n",
       "Net Sales          0.182259         -0.184494  0.755059   1.000000   \n",
       "Method of Payment -0.024344         -0.224116  0.004765  -0.095739   \n",
       "Gender            -0.189407          0.076974 -0.122945  -0.104591   \n",
       "Marital Status    -0.013229          0.130952 -0.115424  -0.017729   \n",
       "Age                0.140854         -0.021951 -0.016615  -0.010636   \n",
       "\n",
       "                   Method of Payment    Gender  Marital Status       Age  \n",
       "Customer                   -0.024344 -0.189407       -0.013229  0.140854  \n",
       "Type of Customer           -0.224116  0.076974        0.130952 -0.021951  \n",
       "Items                       0.004765 -0.122945       -0.115424 -0.016615  \n",
       "Net Sales                  -0.095739 -0.104591       -0.017729 -0.010636  \n",
       "Method of Payment           1.000000  0.013771        0.069299 -0.138742  \n",
       "Gender                      0.013771  1.000000        0.200987 -0.036755  \n",
       "Marital Status              0.069299  0.200987        1.000000 -0.263944  \n",
       "Age                        -0.138742 -0.036755       -0.263944  1.000000  "
      ]
     },
     "execution_count": 42,
     "metadata": {},
     "output_type": "execute_result"
    }
   ],
   "source": [
    "#now creating a correlation matrix\n",
    "# creating a heatmap for correlation\n",
    "df1.corr()"
   ]
  },
  {
   "cell_type": "code",
   "execution_count": 43,
   "id": "37349a50",
   "metadata": {},
   "outputs": [
    {
     "data": {
      "image/png": "[encoded data removed]",
      "text/plain": [
       "<Figure size 2160x1440 with 2 Axes>"
      ]
     },
     "metadata": {
      "needs_background": "light"
     },
     "output_type": "display_data"
    }
   ],
   "source": [
    "plt.subplots(figsize=(30,20))\n",
    "sns.heatmap(df1.corr(), annot=True)\n",
    "plt.show()"
   ]
  },
  {
   "cell_type": "code",
   "execution_count": 46,
   "id": "ff487d0e",
   "metadata": {},
   "outputs": [],
   "source": [
    "#now separate dependent and independent variables for regression analysis\n",
    "independent_variables=df1.drop(['Net Sales'],axis=1)\n",
    "dependent_variable=df1['Net Sales']"
   ]
  },
  {
   "cell_type": "code",
   "execution_count": 47,
   "id": "5daa6e3a",
   "metadata": {},
   "outputs": [],
   "source": [
    "# now for standardise the columns value we importing standard scaler library\n",
    "from sklearn.preprocessing import StandardScaler\n",
    "ss=StandardScaler()"
   ]
  },
  {
   "cell_type": "code",
   "execution_count": 48,
   "id": "584be4a7",
   "metadata": {},
   "outputs": [
    {
     "data": {
      "text/plain": [
       "array([[-1.71481604,  1.52752523, -0.81544934, -2.45945946,  3.64495738,\n",
       "        -0.43643578, -0.89884388],\n",
       "       [-1.68017329, -0.65465367, -0.81544934,  0.24324324, -0.27435163,\n",
       "        -0.43643578, -0.5743515 ],\n",
       "       [-1.64553055,  1.52752523, -0.81544934,  0.24324324, -0.27435163,\n",
       "        -0.43643578, -0.89884388],\n",
       "       [-1.6108878 , -0.65465367,  0.65382875,  0.24324324, -0.27435163,\n",
       "        -0.43643578, -1.22333625],\n",
       "       [-1.57624505,  1.52752523, -0.44812982, -1.10810811, -0.27435163,\n",
       "        -0.43643578, -0.73659769],\n",
       "       [-1.5416023 ,  1.52752523, -0.81544934, -1.10810811, -0.27435163,\n",
       "        -0.43643578,  0.07463325],\n",
       "       [-1.50695955, -0.65465367, -0.44812982,  0.24324324, -0.27435163,\n",
       "        -0.43643578, -1.06109006],\n",
       "       [-1.4723168 ,  1.52752523, -0.81544934,  1.59459459, -0.27435163,\n",
       "        -0.43643578, -0.24985913],\n",
       "       [-1.43767406, -0.65465367, -0.44812982,  0.24324324, -0.27435163,\n",
       "        -0.43643578,  0.23687943],\n",
       "       [-1.40303131,  1.52752523, -0.81544934,  0.24324324, -0.27435163,\n",
       "        -0.43643578, -0.5743515 ],\n",
       "       [-1.36838856,  1.52752523, -0.81544934,  0.24324324, -0.27435163,\n",
       "        -0.43643578,  0.39912562],\n",
       "       [-1.33374581, -0.65465367, -0.81544934,  0.24324324, -0.27435163,\n",
       "        -0.43643578, -0.24985913],\n",
       "       [-1.29910306, -0.65465367,  2.12310685,  1.59459459, -0.27435163,\n",
       "        -0.43643578, -0.24985913],\n",
       "       [-1.26446031, -0.65465367, -0.44812982,  1.59459459, -0.27435163,\n",
       "        -0.43643578,  0.23687943],\n",
       "       [-1.22981757,  1.52752523, -0.81544934,  1.59459459,  3.64495738,\n",
       "         2.29128785, -1.54782862],\n",
       "       [-1.19517482, -0.65465367, -0.44812982,  0.24324324,  3.64495738,\n",
       "         2.29128785, -0.5743515 ],\n",
       "       [-1.16053207, -0.65465367, -0.0808103 ,  0.24324324, -0.27435163,\n",
       "         2.29128785, -1.71007481],\n",
       "       [-1.12588932,  1.52752523, -0.0808103 , -2.45945946, -0.27435163,\n",
       "        -0.43643578, -0.24985913],\n",
       "       [-1.09124657, -0.65465367, -0.44812982, -1.10810811, -0.27435163,\n",
       "        -0.43643578, -0.89884388],\n",
       "       [-1.05660382, -0.65465367,  1.02114828,  0.24324324, -0.27435163,\n",
       "        -0.43643578,  1.04811037],\n",
       "       [-1.02196108, -0.65465367, -0.81544934,  0.24324324, -0.27435163,\n",
       "         2.29128785, -1.22333625],\n",
       "       [-0.98731833, -0.65465367,  0.28650923,  0.24324324, -0.27435163,\n",
       "        -0.43643578, -0.41210531],\n",
       "       [-0.95267558, -0.65465367,  1.3884678 , -3.81081081, -0.27435163,\n",
       "        -0.43643578,  0.56137181],\n",
       "       [-0.91803283,  1.52752523, -0.44812982,  0.24324324, -0.27435163,\n",
       "        -0.43643578, -0.08761294],\n",
       "       [-0.88339008, -0.65465367, -0.44812982,  1.59459459,  3.64495738,\n",
       "        -0.43643578,  0.39912562],\n",
       "       [-0.84874733, -0.65465367, -0.81544934,  0.24324324, -0.27435163,\n",
       "        -0.43643578,  1.37260274],\n",
       "       [-0.81410459,  1.52752523, -0.81544934,  0.24324324, -0.27435163,\n",
       "        -0.43643578,  0.88586418],\n",
       "       [-0.77946184, -0.65465367,  0.65382875,  0.24324324, -0.27435163,\n",
       "         2.29128785, -0.08761294],\n",
       "       [-0.74481909, -0.65465367, -0.0808103 ,  0.24324324, -0.27435163,\n",
       "        -0.43643578, -0.89884388],\n",
       "       [-0.71017634, -0.65465367, -0.81544934,  0.24324324, -0.27435163,\n",
       "        -0.43643578,  2.18383368],\n",
       "       [-0.67553359, -0.65465367, -0.44812982, -1.10810811, -0.27435163,\n",
       "        -0.43643578, -1.22333625],\n",
       "       [-0.64089084,  1.52752523, -0.81544934,  0.24324324, -0.27435163,\n",
       "        -0.43643578,  0.72361799],\n",
       "       [-0.6062481 , -0.65465367, -0.0808103 ,  0.24324324, -0.27435163,\n",
       "        -0.43643578,  0.07463325],\n",
       "       [-0.57160535,  1.52752523, -0.81544934,  0.24324324, -0.27435163,\n",
       "        -0.43643578, -0.73659769],\n",
       "       [-0.5369626 , -0.65465367,  0.65382875, -1.10810811, -0.27435163,\n",
       "        -0.43643578,  1.04811037],\n",
       "       [-0.50231985,  1.52752523, -0.81544934, -1.10810811,  3.64495738,\n",
       "         2.29128785, -0.5743515 ],\n",
       "       [-0.4676771 ,  1.52752523, -0.44812982,  1.59459459, -0.27435163,\n",
       "         2.29128785, -0.08761294],\n",
       "       [-0.43303435, -0.65465367,  1.02114828,  0.24324324, -0.27435163,\n",
       "        -0.43643578,  0.56137181],\n",
       "       [-0.39839161, -0.65465367,  0.65382875,  0.24324324, -0.27435163,\n",
       "        -0.43643578,  0.07463325],\n",
       "       [-0.36374886,  1.52752523, -0.44812982,  0.24324324, -0.27435163,\n",
       "        -0.43643578,  1.21035655],\n",
       "       [-0.32910611, -0.65465367,  3.59238495,  0.24324324, -0.27435163,\n",
       "        -0.43643578, -0.08761294],\n",
       "       [-0.29446336, -0.65465367,  0.28650923,  1.59459459, -0.27435163,\n",
       "        -0.43643578,  0.23687943],\n",
       "       [-0.25982061,  1.52752523, -0.44812982,  0.24324324, -0.27435163,\n",
       "        -0.43643578,  0.39912562],\n",
       "       [-0.22517786, -0.65465367, -0.81544934,  0.24324324, -0.27435163,\n",
       "        -0.43643578,  0.88586418],\n",
       "       [-0.19053512, -0.65465367, -0.44812982,  0.24324324, -0.27435163,\n",
       "        -0.43643578, -0.41210531],\n",
       "       [-0.15589237, -0.65465367, -0.44812982,  0.24324324, -0.27435163,\n",
       "        -0.43643578,  1.37260274],\n",
       "       [-0.12124962,  1.52752523, -0.81544934, -1.10810811, -0.27435163,\n",
       "        -0.43643578,  0.23687943],\n",
       "       [-0.08660687, -0.65465367, -0.0808103 ,  0.24324324, -0.27435163,\n",
       "        -0.43643578, -1.06109006],\n",
       "       [-0.05196412, -0.65465367, -0.81544934,  0.24324324, -0.27435163,\n",
       "        -0.43643578, -0.89884388],\n",
       "       [-0.01732137, -0.65465367,  2.12310685, -1.10810811, -0.27435163,\n",
       "        -0.43643578,  0.23687943],\n",
       "       [ 0.01732137, -0.65465367,  1.02114828,  0.24324324, -0.27435163,\n",
       "        -0.43643578, -0.41210531],\n",
       "       [ 0.05196412, -0.65465367,  0.65382875,  0.24324324,  3.64495738,\n",
       "        -0.43643578,  2.02158749],\n",
       "       [ 0.08660687,  1.52752523, -0.81544934, -2.45945946, -0.27435163,\n",
       "         2.29128785,  2.83281842],\n",
       "       [ 0.12124962,  1.52752523, -0.44812982,  1.59459459, -0.27435163,\n",
       "         2.29128785, -1.872321  ],\n",
       "       [ 0.15589237,  1.52752523, -0.44812982, -1.10810811, -0.27435163,\n",
       "        -0.43643578, -0.89884388],\n",
       "       [ 0.19053512, -0.65465367, -0.0808103 ,  0.24324324, -0.27435163,\n",
       "        -0.43643578, -0.41210531],\n",
       "       [ 0.22517786, -0.65465367,  1.02114828,  0.24324324, -0.27435163,\n",
       "        -0.43643578,  0.88586418],\n",
       "       [ 0.25982061, -0.65465367, -0.44812982,  0.24324324, -0.27435163,\n",
       "        -0.43643578,  0.39912562],\n",
       "       [ 0.29446336, -0.65465367,  0.28650923, -1.10810811, -0.27435163,\n",
       "        -0.43643578,  0.23687943],\n",
       "       [ 0.32910611, -0.65465367,  0.28650923,  0.24324324, -0.27435163,\n",
       "         2.29128785,  0.56137181],\n",
       "       [ 0.36374886, -0.65465367, -0.81544934,  0.24324324, -0.27435163,\n",
       "        -0.43643578,  0.23687943],\n",
       "       [ 0.39839161, -0.65465367, -0.0808103 ,  0.24324324, -0.27435163,\n",
       "         2.29128785, -1.06109006],\n",
       "       [ 0.43303435, -0.65465367,  0.65382875,  0.24324324, -0.27435163,\n",
       "        -0.43643578,  0.88586418],\n",
       "       [ 0.4676771 , -0.65465367, -0.81544934,  0.24324324, -0.27435163,\n",
       "         2.29128785, -0.08761294],\n",
       "       [ 0.50231985, -0.65465367, -0.44812982,  0.24324324, -0.27435163,\n",
       "        -0.43643578,  0.39912562],\n",
       "       [ 0.5369626 , -0.65465367, -0.81544934,  0.24324324, -0.27435163,\n",
       "        -0.43643578,  1.53484893],\n",
       "       [ 0.57160535, -0.65465367, -0.44812982,  0.24324324, -0.27435163,\n",
       "        -0.43643578, -0.73659769],\n",
       "       [ 0.6062481 , -0.65465367,  0.65382875,  0.24324324, -0.27435163,\n",
       "        -0.43643578, -1.22333625],\n",
       "       [ 0.64089084, -0.65465367, -0.44812982,  0.24324324,  3.64495738,\n",
       "        -0.43643578,  0.23687943],\n",
       "       [ 0.67553359, -0.65465367,  1.75578733,  0.24324324, -0.27435163,\n",
       "        -0.43643578,  0.88586418],\n",
       "       [ 0.71017634, -0.65465367,  0.65382875,  0.24324324, -0.27435163,\n",
       "        -0.43643578, -1.06109006],\n",
       "       [ 0.74481909, -0.65465367,  0.28650923, -1.10810811, -0.27435163,\n",
       "        -0.43643578, -0.89884388],\n",
       "       [ 0.77946184,  1.52752523, -0.81544934,  0.24324324, -0.27435163,\n",
       "         2.29128785, -1.71007481],\n",
       "       [ 0.81410459, -0.65465367, -0.44812982,  0.24324324, -0.27435163,\n",
       "        -0.43643578, -0.89884388],\n",
       "       [ 0.84874733, -0.65465367, -0.44812982,  0.24324324, -0.27435163,\n",
       "        -0.43643578,  2.50832605],\n",
       "       [ 0.88339008, -0.65465367,  0.28650923,  0.24324324, -0.27435163,\n",
       "        -0.43643578,  1.53484893],\n",
       "       [ 0.91803283,  1.52752523, -0.44812982,  0.24324324, -0.27435163,\n",
       "        -0.43643578, -0.08761294],\n",
       "       [ 0.95267558, -0.65465367,  0.28650923,  0.24324324, -0.27435163,\n",
       "        -0.43643578, -1.22333625],\n",
       "       [ 0.98731833, -0.65465367, -0.0808103 ,  0.24324324, -0.27435163,\n",
       "        -0.43643578, -0.41210531],\n",
       "       [ 1.02196108,  1.52752523, -0.44812982, -2.45945946, -0.27435163,\n",
       "        -0.43643578,  0.88586418],\n",
       "       [ 1.05660382, -0.65465367, -0.44812982, -1.10810811, -0.27435163,\n",
       "        -0.43643578,  2.02158749],\n",
       "       [ 1.09124657, -0.65465367,  1.02114828,  0.24324324, -0.27435163,\n",
       "         2.29128785, -1.06109006],\n",
       "       [ 1.12588932, -0.65465367,  0.28650923,  1.59459459, -0.27435163,\n",
       "        -0.43643578, -0.5743515 ],\n",
       "       [ 1.16053207, -0.65465367, -0.0808103 ,  0.24324324, -0.27435163,\n",
       "        -0.43643578,  0.07463325],\n",
       "       [ 1.19517482,  1.52752523, -0.44812982,  1.59459459, -0.27435163,\n",
       "        -0.43643578,  0.07463325],\n",
       "       [ 1.22981757, -0.65465367, -0.81544934,  0.24324324, -0.27435163,\n",
       "        -0.43643578,  1.53484893],\n",
       "       [ 1.26446031,  1.52752523,  1.02114828, -1.10810811, -0.27435163,\n",
       "         2.29128785,  0.39912562],\n",
       "       [ 1.29910306,  1.52752523,  0.28650923,  0.24324324, -0.27435163,\n",
       "        -0.43643578, -0.5743515 ],\n",
       "       [ 1.33374581, -0.65465367, -0.81544934,  0.24324324, -0.27435163,\n",
       "         2.29128785, -1.872321  ],\n",
       "       [ 1.36838856, -0.65465367,  1.02114828,  0.24324324, -0.27435163,\n",
       "        -0.43643578, -0.08761294],\n",
       "       [ 1.40303131, -0.65465367,  0.28650923,  0.24324324, -0.27435163,\n",
       "        -0.43643578,  0.88586418],\n",
       "       [ 1.43767406, -0.65465367, -0.81544934,  0.24324324, -0.27435163,\n",
       "        -0.43643578,  0.88586418],\n",
       "       [ 1.4723168 ,  1.52752523,  0.65382875,  0.24324324, -0.27435163,\n",
       "        -0.43643578,  2.34607986],\n",
       "       [ 1.50695955, -0.65465367,  5.06166305,  0.24324324, -0.27435163,\n",
       "        -0.43643578, -1.06109006],\n",
       "       [ 1.5416023 ,  1.52752523, -0.0808103 , -3.81081081, -0.27435163,\n",
       "        -0.43643578,  0.23687943],\n",
       "       [ 1.57624505,  1.52752523, -0.81544934, -1.10810811, -0.27435163,\n",
       "        -0.43643578,  0.07463325],\n",
       "       [ 1.6108878 , -0.65465367,  2.12310685,  0.24324324, -0.27435163,\n",
       "        -0.43643578, -1.06109006],\n",
       "       [ 1.64553055, -0.65465367,  2.49042638,  0.24324324, -0.27435163,\n",
       "        -0.43643578,  0.72361799],\n",
       "       [ 1.68017329, -0.65465367, -0.44812982,  0.24324324, -0.27435163,\n",
       "        -0.43643578, -1.06109006],\n",
       "       [ 1.71481604, -0.65465367, -0.81544934,  0.24324324, -0.27435163,\n",
       "        -0.43643578,  0.07463325]])"
      ]
     },
     "execution_count": 48,
     "metadata": {},
     "output_type": "execute_result"
    }
   ],
   "source": [
    "independent_variables=StandardScaler().fit(independent_variables).transform(independent_variables)\n",
    "independent_variables"
   ]
  },
  {
   "cell_type": "code",
   "execution_count": 49,
   "id": "25be5242",
   "metadata": {},
   "outputs": [],
   "source": [
    "# now importing train test split for model building and importing regression models\n",
    "from sklearn.model_selection import train_test_split\n",
    "from sklearn.linear_model import LinearRegression,Ridge,Lasso,LogisticRegression\n",
    "from sklearn.ensemble import RandomForestRegressor"
   ]
  },
  {
   "cell_type": "code",
   "execution_count": 50,
   "id": "75ab4734",
   "metadata": {},
   "outputs": [
    {
     "data": {
      "text/plain": [
       "((90, 7), (10, 7), (90,), (10,))"
      ]
     },
     "execution_count": 50,
     "metadata": {},
     "output_type": "execute_result"
    }
   ],
   "source": [
    "from sklearn.model_selection import train_test_split\n",
    "X_train,X_test,y_train,y_test=train_test_split(independent_variables,dependent_variable,test_size=0.10,random_state=42)\n",
    "X_train.shape,X_test.shape,y_train.shape,y_test.shape"
   ]
  },
  {
   "cell_type": "markdown",
   "id": "94139cd1",
   "metadata": {},
   "source": [
    "Linear Regression"
   ]
  },
  {
   "cell_type": "code",
   "execution_count": 51,
   "id": "be69c0db",
   "metadata": {},
   "outputs": [
    {
     "name": "stdout",
     "output_type": "stream",
     "text": [
      "0.5888617779509673\n",
      "0.4819240561618088\n"
     ]
    }
   ],
   "source": [
    "from sklearn.linear_model import LinearRegression\n",
    "lin_reg=LinearRegression()\n",
    "lin_reg\n",
    "lin_reg.fit(X_train,y_train)\n",
    "print(lin_reg.score(X_train,y_train))\n",
    "print(lin_reg.score(X_test,y_test))\n",
    "lin_reg_pred=lin_reg.predict(X_test)"
   ]
  },
  {
   "cell_type": "code",
   "execution_count": 52,
   "id": "26b65c37",
   "metadata": {},
   "outputs": [
    {
     "name": "stdout",
     "output_type": "stream",
     "text": [
      "Accuracy score for LR : 48.19240561618088\n"
     ]
    }
   ],
   "source": [
    "from sklearn.metrics import r2_score\n",
    "lin_reg_score=r2_score(y_test,lin_reg_pred)*100\n",
    "print(\"Accuracy score for LR :\",lin_reg_score)"
   ]
  },
  {
   "cell_type": "markdown",
   "id": "536abee4",
   "metadata": {},
   "source": [
    "Ridge Regression"
   ]
  },
  {
   "cell_type": "code",
   "execution_count": 53,
   "id": "d4de74b8",
   "metadata": {},
   "outputs": [
    {
     "name": "stdout",
     "output_type": "stream",
     "text": [
      "0.588776483370737\n",
      "0.4788202962468122\n"
     ]
    }
   ],
   "source": [
    "from sklearn.linear_model import Ridge\n",
    "rr=Ridge()\n",
    "rr\n",
    "rr.fit(X_train,y_train)\n",
    "print(rr.score(X_train,y_train))\n",
    "print(rr.score(X_test,y_test))\n",
    "rr_pred=rr.predict(X_test)"
   ]
  },
  {
   "cell_type": "code",
   "execution_count": 54,
   "id": "dac738c6",
   "metadata": {},
   "outputs": [
    {
     "name": "stdout",
     "output_type": "stream",
     "text": [
      "Accuracy score for RidgeR : 47.88202962468122\n"
     ]
    }
   ],
   "source": [
    "from sklearn.metrics import r2_score\n",
    "rr_score=r2_score(y_test,rr_pred)*100\n",
    "print(\"Accuracy score for RidgeR :\",rr_score)"
   ]
  },
  {
   "cell_type": "markdown",
   "id": "42702b04",
   "metadata": {},
   "source": [
    "Lasso Regression"
   ]
  },
  {
   "cell_type": "code",
   "execution_count": 55,
   "id": "5a1bc758",
   "metadata": {},
   "outputs": [
    {
     "name": "stdout",
     "output_type": "stream",
     "text": [
      "0.5862378790519358\n",
      "0.5092121575526541\n"
     ]
    }
   ],
   "source": [
    "from sklearn.linear_model import Lasso\n",
    "lr=Lasso()\n",
    "lr\n",
    "lr.fit(X_train,y_train)\n",
    "print(lr.score(X_train,y_train))\n",
    "print(lr.score(X_test,y_test))\n",
    "lr_pred=lr.predict(X_test)"
   ]
  },
  {
   "cell_type": "code",
   "execution_count": 56,
   "id": "566e90f9",
   "metadata": {},
   "outputs": [
    {
     "name": "stdout",
     "output_type": "stream",
     "text": [
      "Accuracy score for LASR : 50.921215755265415\n"
     ]
    }
   ],
   "source": [
    "from sklearn.metrics import r2_score\n",
    "\n",
    "lr_score=r2_score(y_test,lr_pred)*100\n",
    "print(\"Accuracy score for LASR :\",lr_score)"
   ]
  },
  {
   "cell_type": "markdown",
   "id": "d66df4b5",
   "metadata": {},
   "source": [
    "Random Forest "
   ]
  },
  {
   "cell_type": "code",
   "execution_count": 57,
   "id": "ca161ebc",
   "metadata": {},
   "outputs": [
    {
     "data": {
      "text/plain": [
       "RandomForestRegressor()"
      ]
     },
     "execution_count": 57,
     "metadata": {},
     "output_type": "execute_result"
    }
   ],
   "source": [
    "rfr=RandomForestRegressor()\n",
    "rfr"
   ]
  },
  {
   "cell_type": "code",
   "execution_count": 58,
   "id": "aff3d06a",
   "metadata": {},
   "outputs": [
    {
     "data": {
      "text/plain": [
       "RandomForestRegressor()"
      ]
     },
     "execution_count": 58,
     "metadata": {},
     "output_type": "execute_result"
    }
   ],
   "source": [
    "rfr.fit(X_train,y_train)"
   ]
  },
  {
   "cell_type": "code",
   "execution_count": 59,
   "id": "07af1101",
   "metadata": {},
   "outputs": [
    {
     "name": "stdout",
     "output_type": "stream",
     "text": [
      "0.9247042181213938\n",
      "0.12547141410326534\n"
     ]
    }
   ],
   "source": [
    "print(rfr.score(X_train,y_train))\n",
    "print(rfr.score(X_test,y_test))"
   ]
  },
  {
   "cell_type": "code",
   "execution_count": 60,
   "id": "1625d2cb",
   "metadata": {},
   "outputs": [],
   "source": [
    "rfr_pred=rfr.predict(X_test)"
   ]
  },
  {
   "cell_type": "code",
   "execution_count": 61,
   "id": "29d078ed",
   "metadata": {},
   "outputs": [
    {
     "name": "stdout",
     "output_type": "stream",
     "text": [
      "Accuracy score for RFR : 12.547141410326535\n"
     ]
    }
   ],
   "source": [
    "from sklearn.metrics import r2_score\n",
    "\n",
    "rfr_score=r2_score(y_test,rfr_pred)*100\n",
    "print(\"Accuracy score for RFR :\",rfr_score)"
   ]
  },
  {
   "cell_type": "markdown",
   "id": "e8224a36",
   "metadata": {},
   "source": [
    "Support vector Regressor"
   ]
  },
  {
   "cell_type": "code",
   "execution_count": 62,
   "id": "91fd9456",
   "metadata": {},
   "outputs": [
    {
     "name": "stdout",
     "output_type": "stream",
     "text": [
      "-0.04483364418776126\n",
      "-0.05807471189359559\n",
      "Accuracy score for LR : -5.807471189359559\n"
     ]
    }
   ],
   "source": [
    "from sklearn.svm import SVR\n",
    "svr=SVR()\n",
    "svr.fit(X_train,y_train)\n",
    "print(svr.score(X_train,y_train))\n",
    "print(svr.score(X_test,y_test))\n",
    "svr_pred=svr.predict(X_test)\n",
    "from sklearn.metrics import r2_score\n",
    "svr_score=r2_score(y_test,svr_pred)*100\n",
    "print(\"Accuracy score for LR :\",svr_score)"
   ]
  },
  {
   "cell_type": "code",
   "execution_count": 63,
   "id": "128d1452",
   "metadata": {},
   "outputs": [
    {
     "data": {
      "text/html": [
       "<div>\n",
       "<style scoped>\n",
       "    .dataframe tbody tr th:only-of-type {\n",
       "        vertical-align: middle;\n",
       "    }\n",
       "\n",
       "    .dataframe tbody tr th {\n",
       "        vertical-align: top;\n",
       "    }\n",
       "\n",
       "    .dataframe thead th {\n",
       "        text-align: right;\n",
       "    }\n",
       "</style>\n",
       "<table border=\"1\" class=\"dataframe\">\n",
       "  <thead>\n",
       "    <tr style=\"text-align: right;\">\n",
       "      <th></th>\n",
       "      <th>Model Names</th>\n",
       "      <th>Accuracy socre</th>\n",
       "    </tr>\n",
       "  </thead>\n",
       "  <tbody>\n",
       "    <tr>\n",
       "      <th>0</th>\n",
       "      <td>Linear Reg</td>\n",
       "      <td>48.192406</td>\n",
       "    </tr>\n",
       "    <tr>\n",
       "      <th>1</th>\n",
       "      <td>Ridge Reg</td>\n",
       "      <td>47.882030</td>\n",
       "    </tr>\n",
       "    <tr>\n",
       "      <th>2</th>\n",
       "      <td>Lasso Reg</td>\n",
       "      <td>50.921216</td>\n",
       "    </tr>\n",
       "    <tr>\n",
       "      <th>3</th>\n",
       "      <td>RandomForest Reg</td>\n",
       "      <td>12.547141</td>\n",
       "    </tr>\n",
       "    <tr>\n",
       "      <th>4</th>\n",
       "      <td>Support Vector Reg</td>\n",
       "      <td>-5.807471</td>\n",
       "    </tr>\n",
       "  </tbody>\n",
       "</table>\n",
       "</div>"
      ],
      "text/plain": [
       "          Model Names  Accuracy socre\n",
       "0          Linear Reg       48.192406\n",
       "1           Ridge Reg       47.882030\n",
       "2           Lasso Reg       50.921216\n",
       "3    RandomForest Reg       12.547141\n",
       "4  Support Vector Reg       -5.807471"
      ]
     },
     "execution_count": 63,
     "metadata": {},
     "output_type": "execute_result"
    }
   ],
   "source": [
    "# comparing accuracy from all models\n",
    "pd.DataFrame({\"Model Names\":['Linear Reg','Ridge Reg','Lasso Reg','RandomForest Reg','Support Vector Reg'],\n",
    "            \"Accuracy socre\":[lin_reg_score,rr_score,lr_score,rfr_score,svr_score]})"
   ]
  },
  {
   "cell_type": "markdown",
   "id": "47bb5aaa",
   "metadata": {},
   "source": [
    "Lasso Regression has highest accuracy score so Lasso Regression model is best for the data"
   ]
  },
  {
   "cell_type": "code",
   "execution_count": 65,
   "id": "7799a8d1",
   "metadata": {},
   "outputs": [
    {
     "data": {
      "text/html": [
       "<div>\n",
       "<style scoped>\n",
       "    .dataframe tbody tr th:only-of-type {\n",
       "        vertical-align: middle;\n",
       "    }\n",
       "\n",
       "    .dataframe tbody tr th {\n",
       "        vertical-align: top;\n",
       "    }\n",
       "\n",
       "    .dataframe thead th {\n",
       "        text-align: right;\n",
       "    }\n",
       "</style>\n",
       "<table border=\"1\" class=\"dataframe\">\n",
       "  <thead>\n",
       "    <tr style=\"text-align: right;\">\n",
       "      <th></th>\n",
       "      <th>Actual value</th>\n",
       "      <th>Predicted value</th>\n",
       "    </tr>\n",
       "  </thead>\n",
       "  <tbody>\n",
       "    <tr>\n",
       "      <th>83</th>\n",
       "      <td>46.00</td>\n",
       "      <td>71.22</td>\n",
       "    </tr>\n",
       "    <tr>\n",
       "      <th>53</th>\n",
       "      <td>74.00</td>\n",
       "      <td>69.41</td>\n",
       "    </tr>\n",
       "    <tr>\n",
       "      <th>70</th>\n",
       "      <td>155.32</td>\n",
       "      <td>99.74</td>\n",
       "    </tr>\n",
       "    <tr>\n",
       "      <th>45</th>\n",
       "      <td>39.60</td>\n",
       "      <td>55.75</td>\n",
       "    </tr>\n",
       "    <tr>\n",
       "      <th>44</th>\n",
       "      <td>23.80</td>\n",
       "      <td>55.72</td>\n",
       "    </tr>\n",
       "    <tr>\n",
       "      <th>39</th>\n",
       "      <td>52.50</td>\n",
       "      <td>61.67</td>\n",
       "    </tr>\n",
       "    <tr>\n",
       "      <th>22</th>\n",
       "      <td>266.00</td>\n",
       "      <td>127.30</td>\n",
       "    </tr>\n",
       "    <tr>\n",
       "      <th>80</th>\n",
       "      <td>78.00</td>\n",
       "      <td>56.70</td>\n",
       "    </tr>\n",
       "    <tr>\n",
       "      <th>10</th>\n",
       "      <td>29.50</td>\n",
       "      <td>46.45</td>\n",
       "    </tr>\n",
       "    <tr>\n",
       "      <th>0</th>\n",
       "      <td>39.50</td>\n",
       "      <td>45.74</td>\n",
       "    </tr>\n",
       "  </tbody>\n",
       "</table>\n",
       "</div>"
      ],
      "text/plain": [
       "    Actual value  Predicted value\n",
       "83         46.00            71.22\n",
       "53         74.00            69.41\n",
       "70        155.32            99.74\n",
       "45         39.60            55.75\n",
       "44         23.80            55.72\n",
       "39         52.50            61.67\n",
       "22        266.00           127.30\n",
       "80         78.00            56.70\n",
       "10         29.50            46.45\n",
       "0          39.50            45.74"
      ]
     },
     "execution_count": 65,
     "metadata": {},
     "output_type": "execute_result"
    }
   ],
   "source": [
    "sample=pd.DataFrame({\"Actual value\":y_test,\n",
    "             \"Predicted value\":np.round(lr_pred,2)})\n",
    "sample"
   ]
  },
  {
   "cell_type": "code",
   "execution_count": null,
   "id": "73dc9801",
   "metadata": {},
   "outputs": [],
   "source": []
  }
 ],
 "metadata": {
  "kernelspec": {
   "display_name": "Python 3 (ipykernel)",
   "language": "python",
   "name": "python3"
  },
  "language_info": {
   "codemirror_mode": {
    "name": "ipython",
    "version": 3
   },
   "file_extension": ".py",
   "mimetype": "text/x-python",
   "name": "python",
   "nbconvert_exporter": "python",
   "pygments_lexer": "ipython3",
   "version": "3.9.12"
  }
 },
 "nbformat": 4,
 "nbformat_minor": 5
}
